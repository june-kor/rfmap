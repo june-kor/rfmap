{
  "cells": [
    {
      "cell_type": "markdown",
      "metadata": {
        "id": "KeZ8cAh2IeYe"
      },
      "source": [
        "Oracle RF Fingerprinting\n",
        "\n",
        "Paper available at :\n",
        "\n",
        " https://arxiv.org/pdf/1812.01124\n",
        "\n",
        " https://arxiv.org/pdf/1904.07623.pdf\n",
        "\n",
        " \n",
        "\n",
        "Datasets from: \n",
        "\n",
        "https://mailuc-my.sharepoint.com/:f:/g/personal/wang2ba_ucmail_uc_edu/EjXyRTpV0Y5Dn-OjKlxKg8gBZWyq2PIHy5OPgh3bf3g4fg?e=B9oAJc\n",
        "\n",
        "https://genesys-lab.org/oracle"
      ]
    },
    {
      "cell_type": "code",
      "execution_count": null,
      "metadata": {
        "id": "ybiVvxZfGDeY"
      },
      "outputs": [],
      "source": [
        "pip install sigmf"
      ]
    },
    {
      "cell_type": "code",
      "execution_count": null,
      "metadata": {
        "id": "p6MX3-pP5b6g"
      },
      "outputs": [],
      "source": [
        "!apt-get install axel\n",
        "!axel -n 50 https://repository.library.northeastern.edu/downloads/neu:m044q523j?datastream_id=content #300mb data"
      ]
    },
    {
      "cell_type": "code",
      "execution_count": null,
      "metadata": {
        "id": "dBzkfHmwkahz"
      },
      "outputs": [],
      "source": [
        "#run this if you need to download the 28gb dataset\n",
        "!axel -n 100 https://repository.library.northeastern.edu/downloads/neu:m044q5210?datastream_id=content #28gb data"
      ]
    },
    {
      "cell_type": "code",
      "execution_count": null,
      "metadata": {
        "id": "OgUlnlBZUyHI"
      },
      "outputs": [],
      "source": [
        "!mv neu_m044q523j.zip iq_data_300mb.zip\n",
        "!unzip iq_data_300mb.zip\n",
        "!mv KRI-16IQImbalances-DemodulatedData KRI_16IQIMb_Demod"
      ]
    },
    {
      "cell_type": "code",
      "execution_count": null,
      "metadata": {
        "id": "UEfiwVETVPE2"
      },
      "outputs": [],
      "source": [
        "import sigmf\n",
        "import numpy as np\n",
        "import pandas as pd\n",
        "from sigmf import SigMFFile, sigmffile\n",
        "import os\n",
        "import glob,json\n",
        "import re,pickle\n",
        "\n",
        "import matplotlib.pyplot as plt\n",
        "\n",
        "#importing the required libraries\n",
        "import tensorflow as tf\n",
        "from tensorflow.keras.models import Sequential\n",
        "from tensorflow.keras.layers import Conv2D\n",
        "from tensorflow.keras.layers import MaxPool2D\n",
        "from tensorflow.keras.layers import Flatten\n",
        "from tensorflow.keras.layers import Dropout,Input\n",
        "from tensorflow.keras.layers import Dense,BatchNormalization\n",
        "from tensorflow.keras import regularizers\n",
        "from numpy.fft import fft, ifft,fftshift,ifftshift\n",
        "\n",
        "from imblearn.over_sampling import SMOTE\n",
        "from scipy.stats import wasserstein_distance #this is EMD\n",
        "from sklearn.preprocessing import StandardScaler\n",
        "from sklearn.model_selection import train_test_split\n",
        "from scipy.stats import multivariate_normal\n",
        "from sklearn import preprocessing\n",
        "from sklearn.preprocessing import MinMaxScaler \n",
        "from scipy.signal import butter,filtfilt\n",
        "from sklearn.model_selection import train_test_split\n",
        "from scipy import signal"
      ]
    },
    {
      "cell_type": "code",
      "execution_count": null,
      "metadata": {
        "id": "QVRPzSvfVjL8"
      },
      "outputs": [],
      "source": [
        "#data preperation, run once to get rid of errors\n",
        "files_data = glob.glob(\"./KRI_16IQIMb_Demod/*.sigmf-meta\")\n",
        "for f in files_data:\n",
        "  file_handle = open(f,'r+')\n",
        "  cur_json = json.load(file_handle)\n",
        "  cur_json.update(cur_json['_metadata'])\n",
        "  del cur_json['_metadata']\n",
        "  file_handle.seek(0)\n",
        "  iq_imbalance = re.search('%s(.*)%s' % (\"_IQ#\", \"_run\"), f).group(1)\n",
        "  cur_json[\"annotations\"][0][\"genesys:transmitter\"].update({\"iq_balance\":iq_imbalance})\n",
        "  json.dump(cur_json,file_handle)\n",
        "  file_handle.truncate()\n",
        "  "
      ]
    },
    {
      "cell_type": "code",
      "execution_count": null,
      "metadata": {
        "id": "2maXYh_NgmEu"
      },
      "outputs": [],
      "source": [
        "signal_handles = []\n",
        "files_data = glob.glob(\"./KRI_16IQIMb_Demod/*.sigmf-meta\")\n",
        "for f in files_data:\n",
        "  signal_handles.append(sigmffile.fromfile(f))\n",
        "  "
      ]
    },
    {
      "cell_type": "code",
      "execution_count": null,
      "metadata": {
        "id": "ilwRl-kaXiYk",
        "colab": {
          "base_uri": "https://localhost:8080/"
        },
        "outputId": "4e69bb70-e2c4-43c8-ef65-76f049576135"
      },
      "outputs": [
        {
          "output_type": "stream",
          "name": "stdout",
          "text": [
            "       real       img  blnc\n",
            "0 -1.244605  0.287226   5.0\n",
            "1 -0.338152 -1.236006   5.0\n",
            "2 -0.492135 -0.431267   5.0\n",
            "3 -0.490911 -0.423873   5.0\n",
            "4 -0.479247 -0.424971   5.0\n"
          ]
        }
      ],
      "source": [
        "#run as a test to see wether all data were loaded\n",
        "df = pd.DataFrame({'real':[],'img':[],'blnc':[]})\n",
        "stdscaler = StandardScaler()\n",
        "\n",
        "for signal in signal_handles:\n",
        "  sample_rate = signal.get_global_field(SigMFFile.SAMPLE_RATE_KEY)\n",
        "  sample_count = signal.sample_count\n",
        "  signal_duration = sample_count / sample_rate\n",
        "  signal_sample = signal.read_samples().view(np.complex128).flatten()\n",
        "  signal_balance = int(signal.get_annotations()[0][\"genesys:transmitter\"][\"iq_balance\"])\n",
        "  df_tim = pd.DataFrame({'real':signal_sample.real,'img':signal_sample.imag,'blnc':np.repeat(signal_balance,len(signal_sample.real))})\n",
        "  df = df.append(df_tim)\n",
        "\n",
        "df.blnc.astype(int)\n",
        "print(df.head())"
      ]
    },
    {
      "cell_type": "code",
      "source": [
        "extra_data = []\n",
        "handle_index = 0 \n",
        "for signal in signal_handles:\n",
        "  signal_sample = signal.read_samples().view(np.complex128).flatten()\n",
        "  signal_balance = int(signal.get_annotations()[0][\"genesys:transmitter\"][\"iq_balance\"])\n",
        "\n",
        "  for b in range(0,100):\n",
        "\n",
        "    mu, sigma = 0, 0.01 +b/100\n",
        "    noise = np.random.normal(mu, sigma, signal_sample.shape) \n",
        "    noise2 = np.random.normal(mu, sigma, signal_sample.shape)\n",
        "\n",
        "    i_emd = wasserstein_distance(signal_sample.real,signal_sample.real + noise)\n",
        "    q_emd = wasserstein_distance(signal_sample.imag,signal_sample.imag + noise2)\n",
        "    if (i_emd + q_emd < 0.1):\n",
        "      print(\"found sample at:\",b)\n",
        "      \n",
        "      noisy_data = np.array((signal_sample.real + noise) + 1j*  (signal_sample.imag + noise2))\n",
        "      extra_data.append({'data':noisy_data,'blnc':signal_balance,'sigma':sigma,'mu':mu})\n",
        "    else:\n",
        "      break\n",
        "\n",
        "  break"
      ],
      "metadata": {
        "id": "7LJLCYVASGrs"
      },
      "execution_count": null,
      "outputs": []
    },
    {
      "cell_type": "code",
      "source": [
        "#show iq spectrum\n",
        "for signal in signal_handles:\n",
        "   signal_sample = signal.read_samples().view(np.complex128).flatten()\n",
        "   signal_balance = signal.get_annotations()[0][\"genesys:transmitter\"][\"iq_balance\"]\n",
        "   # Plot the spectogram of this data\n",
        "   plt.scatter(np.real(signal_sample[0:100000]), np.imag(signal_sample[0:100000]))\n",
        "   plt.title(\"Constellation of \"+ signal_balance ) \n",
        "   plt.show() \n"
      ],
      "metadata": {
        "id": "xQ1NS9-IG4Ou"
      },
      "execution_count": null,
      "outputs": []
    },
    {
      "cell_type": "code",
      "execution_count": null,
      "metadata": {
        "id": "a8pllQ9p838S"
      },
      "outputs": [],
      "source": [
        "# get the locations\n",
        "X = df.iloc[:, :-1]\n",
        "y = df.iloc[:, -1]\n",
        "\n",
        "sm = SMOTE(random_state = 42)\n",
        "\n",
        "X_oversampled, y_oversampled = sm.fit_resample(X, y)\n",
        "df_smote = pd.DataFrame(X_oversampled, columns=df.columns)\n",
        "df_smote.blnc = y_oversampled"
      ]
    },
    {
      "cell_type": "code",
      "execution_count": null,
      "metadata": {
        "id": "Tfp9q9wlHDTk"
      },
      "outputs": [],
      "source": [
        "#show how much data imbalance is there\n",
        "equilibre = df.blnc.value_counts()\n",
        "plt.figure(figsize=(20,10))\n",
        "my_circle=plt.Circle( (0,0), 0.7, color='white')\n",
        "plt.pie(equilibre,autopct='%1.1f%%')\n",
        "p=plt.gcf()\n",
        "p.gca().add_artist(my_circle)\n",
        "plt.show()\n",
        "equilibre"
      ]
    },
    {
      "cell_type": "code",
      "execution_count": null,
      "metadata": {
        "id": "jMjWRYcRi5KK"
      },
      "outputs": [],
      "source": [
        "unique_labels = sorted(df.iloc[:, -1].unique().astype('int16'))\n",
        "train_ratio = 0.8\n",
        "validate_ratio = 0.1\n",
        "test_ratio = 0.1\n",
        "\n",
        "x_train = np.zeros((1,2,128))\n",
        "y_train = np.array([],dtype='int16')\n",
        "\n",
        "x_test = np.zeros((1,2,128))\n",
        "y_test = np.array([],dtype='int16')\n",
        "\n",
        "x_val = np.zeros((1,2,128))\n",
        "y_val = np.array([],dtype='int16')\n",
        "\n",
        "for blnc,lbl in enumerate(unique_labels):\n",
        "  data_blnc = df.loc[df[\"blnc\"]==lbl]\n",
        "  size_blnc = len(data_blnc)\n",
        "  rem = size_blnc%128\n",
        "  all_x_blnc = data_blnc.iloc[:,:-1].values[:size_blnc-rem].reshape((size_blnc//128,2,128))\n",
        "\n",
        "  train_size = int(all_x_blnc.shape[0] * train_ratio)\n",
        "  x_train = np.concatenate([x_train,all_x_blnc[0:train_size]])\n",
        "  y_train = np.concatenate([y_train,np.repeat(blnc, train_size)])\n",
        "\n",
        "  test_size = int(all_x_blnc.shape[0] * test_ratio)\n",
        "  x_test = np.concatenate([x_test,all_x_blnc[train_size:train_size+test_size]])\n",
        "  y_test = np.concatenate([y_test,np.repeat(blnc, test_size)])\n",
        "\n",
        "  valid_size = int(all_x_blnc.shape[0] * validate_ratio)\n",
        "  x_val = np.concatenate([x_val,all_x_blnc[train_size+test_size:train_size+test_size+valid_size]])\n",
        "  y_val = np.concatenate([y_val,np.repeat(blnc, valid_size)])\n",
        "\n"
      ]
    },
    {
      "cell_type": "code",
      "execution_count": null,
      "metadata": {
        "id": "6AE2qUSMpsu7"
      },
      "outputs": [],
      "source": [
        "x_train = x_train[1:]\n",
        "x_test = x_test[1:]\n",
        "x_val = x_val[1:]\n",
        "\n",
        "print(x_train.shape,x_test.shape,x_val.shape)\n",
        "print(y_train.shape,y_test.shape,y_val.shape)\n",
        "x_train,y_train"
      ]
    },
    {
      "cell_type": "markdown",
      "metadata": {
        "id": "wjDYmx_FTJDw"
      },
      "source": [
        "For static channels, we design a CNN architecture that uses\n",
        "raw time-series IQ samples generated from 16-node USRP\n",
        "X310 SDR testbed and the external database of 140 COTS\n",
        "WiFi devices. Our proposed CNN architecture, as shown in\n",
        "Fig. 4, is partly inspired from AlexNet [12]. It is a deep CNN\n",
        "architecture specifically designed to classify 1.2 million highresolution images available in the ImageNet dataset into 1000\n",
        "different classes. Unlike AlexNet, which is made up of 8 layers\n",
        "(5 convolution and 3 fully connected), our CNN architecture\n",
        "consists of four layers, with two convolution layers and two\n",
        "fully connected (or dense) layers. The input to our CNN is a\n",
        "windowed sequence of raw IQ samples with length 128. We\n",
        "choose a sliding window approach to partition the training\n",
        "samples that enhances the shift invariance of the features\n",
        "learned by the CNN. Each complex value is represented as\n",
        "two-dimensional real values (i.e., I and Q are two real value\n",
        "streams), which results in the dimension of our input data\n",
        "growing to 2 × 128. This is then fed to the first convolution\n",
        "layer. The convolution layer consists of a set of spatial filters,\n",
        "also called kernels, that perform a convolution operation over\n",
        "Figure 5: Box plot for the classification of WiFi devices using CNN.\n",
        "input data to extract the features. The first convolution layer\n",
        "consists of 50 filters, each of size 1 × 7, in which each\n",
        "filter learns a 7-sample variation in time over the I or Q\n",
        "dimension separately, to generate 50 distinct feature maps over\n",
        "the complete input sample. Similarly, the second convolution\n",
        "layer has 50 filters each of size 2 × 7 and each filter learns\n",
        "variations, again of 7 activation values, over both I and Q\n",
        "dimensions of the 50-dimensional activation volume obtained\n",
        "after the first convolution layer. Each convolution layer is\n",
        "followed by a Rectified Linear Unit (ReLU) activation, that\n",
        "performs a pre-determined non-linear transformation on each\n",
        "element of the convolved output.\n",
        "The output of the second convolution layer is then provided\n",
        "as input to the first fully connected layer, which has 256\n",
        "neurons. A second fully connected layer of 80 neurons is\n",
        "added to extract higher level non-linear combinations of the\n",
        "features extracted from previous layers, which are finally\n",
        "passed to a classifier layer. A softmax classifier is used in\n",
        "the last layer to output the probabilities of each sample being\n",
        "fed to the CNN. The choice of hyperparameters such as filter\n",
        "size, number of filters in the convolution layers and the depth\n",
        "of the CNN is of high importance to ensure that our CNN\n",
        "model generalizes well. These are chosen carefully through\n",
        "cross validation. In order to overcome overfitting, we set the\n",
        "dropout rate to 50% at the dense layers. We also use an\n",
        "`2 regularization parameter λ = 0.0001. The weights of the\n",
        "network are trained using Adam optimizer with a learning rate\n",
        "of lr = 0.0001. We minimize the prediction error through\n",
        "back-propagation, using categorical cross-entropy as a loss\n",
        "function computed on the classifier output. We implement our\n",
        "CNN architecture in Keras running on top of TensorFlow on\n",
        "a system with 8 NVIDIA Cuda enabled Tesla K80m GPU"
      ]
    },
    {
      "cell_type": "code",
      "execution_count": null,
      "metadata": {
        "id": "W17ydg3J-rpf"
      },
      "outputs": [],
      "source": [
        "#defining model\n",
        "model=Sequential()\n",
        "#adding convolution layer\n",
        "model.add(Conv2D(50,(1,7),activation='relu',input_shape=(2,128,1)))\n",
        "model.add(BatchNormalization())\n",
        "model.add(MaxPool2D(pool_size=(2, 2),strides=1,padding=\"same\"))\n",
        "\n",
        "model.add(Conv2D(50,(2,7),activation='relu'))\n",
        "model.add(BatchNormalization())\n",
        "model.add(MaxPool2D(pool_size=(2, 2),strides=1,padding=\"same\"))\n",
        "\n",
        "model.add(Flatten())\n",
        "\n",
        "model.add(Dense(256,kernel_regularizer=regularizers.L2(l2=1e-4) ))\n",
        "model.add(Dropout(0.5))\n",
        "model.add(Dense(80,kernel_regularizer=regularizers.L2(l2=1e-4) ))\n",
        "model.add(Dropout(0.5))\n",
        "\n",
        "#adding output layer\n",
        "model.add(Dense(16,activation='softmax' ))\n",
        "#compiling the model\n",
        "model.compile(loss='sparse_categorical_crossentropy',optimizer=tf.keras.optimizers.Adam(learning_rate=1e-4),metrics=['accuracy'])\n"
      ]
    },
    {
      "cell_type": "code",
      "execution_count": null,
      "metadata": {
        "id": "N7nWZd8X7wOc"
      },
      "outputs": [],
      "source": [
        "#fitting the model\n",
        "model.fit(x_train,y_train,epochs=5,validation_data=(x_test, y_test),)"
      ]
    },
    {
      "cell_type": "code",
      "source": [
        "def convertiq_stream(iq_stream):\n",
        "  data_blnc = pd.DataFrame({'real':iq_stream.real,'img':iq_stream.imag})\n",
        "  size_blnc = len(data_blnc)\n",
        "  rem = size_blnc%128\n",
        "  return data_blnc.values[:size_blnc-rem].reshape((size_blnc//128,2,128))\n"
      ],
      "metadata": {
        "id": "b2KipniUe2EH"
      },
      "execution_count": null,
      "outputs": []
    },
    {
      "cell_type": "code",
      "execution_count": null,
      "metadata": {
        "id": "9i4AcRLjK0UA"
      },
      "outputs": [],
      "source": [
        "signal = extra_data[7]\n",
        "test_val = convertiq_stream(signal['data'][:1000]) #convertiq_stream(extra_data[0]['data'])\n",
        "signal_balance = signal['blnc']\n",
        "print('balance:',signal_balance)\n",
        "out = model.predict(test_val[:1000])\n",
        "\n",
        "prob_ary = np.array([])\n",
        "\n",
        "for i in range(0,len(out)):\n",
        "      j = np.argmax(out[i])\n",
        "      pred_label = unique_labels[j]\n",
        "      print(sorted(unique_labels)[j])\n",
        "      #prob_ary = np.append(prob_ary,pred_label)\n",
        "      "
      ]
    },
    {
      "cell_type": "code",
      "source": [
        "!axel -n 20 https://f002.backblazeb2.com/file/deepsig-datasets/2016.10/RML2016.10b.tar.bz2?Authorization=3_20221219203105_883afad16640e8c098de17c6_81a1534b9be93d82c7ac16cfc26b2e2c2259f4e2_002_20221219213105_0027_dnld\n",
        "!tar xvf RML2016.10b.tar.bz2.0"
      ],
      "metadata": {
        "id": "yw-0C55YFE_f"
      },
      "execution_count": null,
      "outputs": []
    },
    {
      "cell_type": "code",
      "source": [
        "file_class = open(\"RML2016.10b.dat\",'rb')\n",
        "Xd = pickle.load(file_class, encoding = 'bytes')\n",
        "snrs, mods = map(lambda j: sorted(list(set(map(lambda x: x[j], Xd.keys())))), [1,0])\n",
        "X = [] \n",
        "lbl = []\n",
        "for mod in mods:\n",
        "    for snr in snrs:\n",
        "        X.append(Xd[(mod,snr)])\n",
        "        for i in range(Xd[(mod,snr)].shape[0]):  lbl.append((mod,snr))\n",
        "X = np.vstack(X)\n",
        "file_class.close()"
      ],
      "metadata": {
        "id": "SjqHtpPUGS6D"
      },
      "execution_count": null,
      "outputs": []
    },
    {
      "cell_type": "code",
      "source": [
        "features = {}\n",
        "features['raw']        = X[:,0], X[:,1]"
      ],
      "metadata": {
        "id": "pEs-KC9kHo6m"
      },
      "execution_count": null,
      "outputs": []
    },
    {
      "cell_type": "code",
      "source": [
        "def xcorr(x):\n",
        "  \"\"\"FFT based autocorrelation function, which is faster than numpy.correlate\"\"\"\n",
        "  # x is supposed to be an array of sequences, of shape (totalelements, length)\n",
        "  fftx = fft(x)\n",
        "  ret = ifft(fftx * np.conjugate(fftx))\n",
        "  ret = fftshift(ret)\n",
        "  return ret"
      ],
      "metadata": {
        "id": "QgfavDiZM1_M"
      },
      "execution_count": null,
      "outputs": []
    },
    {
      "cell_type": "code",
      "source": [
        "def autocorr(x):\n",
        "   result = np.correlate(x, x, mode='full')\n",
        "   return result[int(result.size/2):]"
      ],
      "metadata": {
        "id": "l2b2r9zUjqtI"
      },
      "execution_count": null,
      "outputs": []
    },
    {
      "cell_type": "code",
      "source": [
        "def butter_lowpass_filter(data, cutoff, fs, order):\n",
        "    normal_cutoff = cutoff / nyq\n",
        "    # Get the filter coefficients \n",
        "    b, a = butter(order, normal_cutoff, btype='low', analog=False)\n",
        "    y = filtfilt(b, a, data)\n",
        "    return y"
      ],
      "metadata": {
        "id": "SvNI3oCX_HgX"
      },
      "execution_count": null,
      "outputs": []
    },
    {
      "cell_type": "code",
      "source": [
        "def generateTone(fs, toneFreq, numSamples, amplitude):\n",
        "    #Generates a sinusoidal signal with the specified\n",
        "    #frequency and amplitude\n",
        "    \n",
        "    step = (float(toneFreq) / float(fs)) * 2.0 * np.pi\n",
        "    phaseArray = np.array(range(0,numSamples)) * step\n",
        "    \n",
        "    #Euler's Formular: e^(j*theta) = cos(theta) + j * sin(theta)\n",
        "    #For a complex sinusoidal theta = 2*pi*f*t where each time step is 1/fs    \n",
        "    wave = np.exp(1.0j * phaseArray) * amplitude\n",
        "    return wave"
      ],
      "metadata": {
        "id": "Rmmo5WKxC84A"
      },
      "execution_count": null,
      "outputs": []
    },
    {
      "cell_type": "code",
      "source": [
        "no_sig = 10**6\n",
        "base_band = generateTone(10**3,10**3,no_sig,1)\n",
        "base_power = (base_band * np.conj(base_band)).real\n",
        "\n",
        "for i in range(0,10):\n",
        "  target_snr_db = 10\n",
        "  # Calculate signal power and convert to dB \n",
        "  sig_avg_watts = np.mean(base_power)\n",
        "  sig_avg_db = 10 * np.log10(sig_avg_watts)\n",
        "  # Calculate noise according to [2] then convert to watts\n",
        "  noise_avg_db = sig_avg_db - target_snr_db\n",
        "  noise_avg_watts = 10 ** (noise_avg_db / 10)\n",
        "  # Generate an sample of white noise\n",
        "  mean_noise = 0\n",
        "  noise_volts = np.random.normal(mean_noise, np.sqrt(noise_avg_watts), len(base_power)) + 1j * np.random.normal(mean_noise, np.sqrt(noise_avg_watts), len(base_power))\n",
        "\n",
        "\n",
        "  var_theta = np.radians(3 + i)\n",
        "  var_epsilon = 0.1 + i/100\n",
        "\n",
        "  var_alpha = np.cos(var_theta) + 1j * var_epsilon * np.sin(var_theta)\n",
        "  var_beta = var_epsilon * np.cos(var_theta) + 1j * np.sin(var_theta)\n",
        "  r_sig = var_alpha * base_band + var_beta * np.conj(base_band) + noise_volts\n",
        "  Y_mat = np.array([r_sig,np.conj(r_sig)])\n",
        "\n",
        "  vctr1 = r_sig * r_sig\n",
        "  vctr2  = r_sig * np.conj(r_sig)\n",
        "  \n",
        "  vctr_size = len(vctr1)\n",
        "  batch_size = int(no_sig/100)\n",
        "  leftover = vctr_size % batch_size\n",
        "  finger_array = np.array([])\n",
        "  for s_x in range(0,vctr_size-batch_size,batch_size):\n",
        "    vctr3 = np.mean((vctr1[s_x:s_x+batch_size]))/np.mean((vctr2[s_x:s_x+batch_size]))\n",
        "    finger_print = (1 + 1/10**( target_snr_db/10))*vctr3\n",
        "    finger_array = np.append(finger_array,finger_print)\n",
        "  \n",
        "  plt.scatter(finger_array.imag, finger_array.real,label=i)\n",
        "\n",
        "plt.legend()\n",
        "plt.show()"
      ],
      "metadata": {
        "colab": {
          "base_uri": "https://localhost:8080/",
          "height": 265
        },
        "id": "r2eUtgCv_5Wk",
        "outputId": "3b1dbaba-3041-45da-e95a-9236eb6b6d91"
      },
      "execution_count": null,
      "outputs": [
        {
          "output_type": "display_data",
          "data": {
            "text/plain": [
              "<Figure size 432x288 with 1 Axes>"
            ],
            "image/png": "[encoded data removed]"
          },
          "metadata": {
            "needs_background": "light"
          }
        }
      ]
    },
    {
      "cell_type": "code",
      "source": [
        "snr_new = 20\n",
        "\n",
        "for label in unique_labels:\n",
        "  data_blnc = df.loc[df[\"blnc\"]==label]\n",
        "  r_sig = (data_blnc['real'] + 1j * data_blnc['img'] ).to_numpy()\n",
        "  Y_mat = np.array([r_sig,np.conj(r_sig)])\n",
        "\n",
        "  vctr1 = r_sig * r_sig\n",
        "  vctr2  = r_sig * np.conj(r_sig)\n",
        "  \n",
        "  vctr_size = len(vctr1)\n",
        "  batch_size = int(vctr_size/10)\n",
        "  finger_array = np.array([])\n",
        "\n",
        "  for s_x in range(0,vctr_size-batch_size,batch_size):\n",
        "    vctr3 = np.mean(xcorr(vctr1[s_x:s_x+batch_size]))/np.mean(xcorr(vctr2[s_x:s_x+batch_size]))\n",
        "    finger_print = (1 + 1/10**( snr_new/10))*vctr3\n",
        "    finger_array = np.append(finger_array,finger_print)\n",
        "  \n",
        "  plt.scatter(finger_array.imag, finger_array.real,label=label)\n",
        "\n",
        "plt.legend()\n",
        "plt.show()"
      ],
      "metadata": {
        "id": "vIgSRgVLMw-B"
      },
      "execution_count": null,
      "outputs": []
    },
    {
      "cell_type": "code",
      "source": [
        "def inp_func(iq_in):\n",
        "  iq_val = np.array([[iq_in],[np.conj(iq_in)]])\n",
        "  print(iq_val)"
      ],
      "metadata": {
        "id": "ZI_VXdiQ0LOB"
      },
      "execution_count": null,
      "outputs": []
    },
    {
      "cell_type": "code",
      "source": [
        "iq_sample = complex(1 ,-0.5)\n",
        "iq_ary1 = np.array([[iq_sample],[np.conj(iq_sample)]])\n",
        "iq_ary2 = np.conj(iq_ary1.T)\n",
        "xcorr(iq_ary1*iq_ary2)"
      ],
      "metadata": {
        "colab": {
          "base_uri": "https://localhost:8080/"
        },
        "id": "ZLHcConmKuOp",
        "outputId": "98688db5-9177-4d69-b761-1c655b3f751d"
      },
      "execution_count": null,
      "outputs": [
        {
          "output_type": "execute_result",
          "data": {
            "text/plain": [
              "array([[1.875+0.j, 3.125+0.j],\n",
              "       [1.875+0.j, 3.125+0.j]])"
            ]
          },
          "metadata": {},
          "execution_count": 16
        }
      ]
    },
    {
      "cell_type": "code",
      "source": [
        "def normalize_complex_arr(a):\n",
        "    a_oo = a - a.real.min() - 1j*a.imag.min() # origin offsetted\n",
        "    return a_oo/np.abs(a_oo).max()"
      ],
      "metadata": {
        "id": "YtxWwbj6ZwHB"
      },
      "execution_count": null,
      "outputs": []
    },
    {
      "cell_type": "code",
      "source": [
        "\n",
        "for label in unique_labels:\n",
        "  data_blnc = df.loc[df[\"blnc\"]==label]\n",
        "  r_sig = (data_blnc['real'] + 1j * data_blnc['img'] ).to_numpy()[:2000]\n",
        "  scaled_sig = normalize_complex_arr(r_sig)\n",
        "\n",
        "  freqs, psd = signal.welch(scaled_sig,fs=5*(10**6),return_onesided=False)\n",
        "\n",
        "  fig, ax = plt.subplots()\n",
        "  ax.semilogx(freqs, psd)\n",
        "  plt.title('PSD: power spectral density')\n",
        "  plt.xlabel('Frequency')\n",
        "  plt.ylabel('Power')\n",
        "\n",
        "plt.show()"
      ],
      "metadata": {
        "id": "ZbSbzvl0SqOS"
      },
      "execution_count": null,
      "outputs": []
    },
    {
      "cell_type": "code",
      "source": [],
      "metadata": {
        "id": "5N4ry1jnXAja"
      },
      "execution_count": null,
      "outputs": []
    },
    {
      "cell_type": "code",
      "source": [
        "#show Power spectral density\n",
        "for signal in signal_handles:\n",
        "   signal_sample = signal.read_samples().view(np.complex128).flatten()\n",
        "   signal_balance = signal.get_annotations()[0][\"genesys:transmitter\"][\"iq_balance\"]\n",
        "   # Plot the spectogram of this data\n",
        "   plt.psd(signal_sample, NFFT=1024, Fs=1000000)\n",
        "   plt.title(\"PSD of \"+signal_balance ) \n",
        "   plt.show() \n"
      ],
      "metadata": {
        "id": "yf8S1JK6B4qM"
      },
      "execution_count": null,
      "outputs": []
    }
  ],
  "metadata": {
    "accelerator": "GPU",
    "colab": {
      "provenance": []
    },
    "gpuClass": "standard",
    "kernelspec": {
      "display_name": "Python 3",
      "name": "python3"
    },
    "language_info": {
      "name": "python"
    }
  },
  "nbformat": 4,
  "nbformat_minor": 0
}