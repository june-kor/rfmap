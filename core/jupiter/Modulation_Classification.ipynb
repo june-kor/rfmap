{
  "nbformat": 4,
  "nbformat_minor": 0,
  "metadata": {
    "colab": {
      "name": "Modulation_Classification3.ipynb",
      "version": "0.3.2",
      "provenance": [],
      "collapsed_sections": [],
      "toc_visible": true
    },
    "language_info": {
      "codemirror_mode": {
        "name": "ipython",
        "version": 3
      },
      "file_extension": ".py",
      "mimetype": "text/x-python",
      "name": "python",
      "nbconvert_exporter": "python",
      "pygments_lexer": "ipython3",
      "version": "3.6.4"
    },
    "kernelspec": {
      "name": "python3",
      "display_name": "Python 3"
    },
    "accelerator": "GPU"
  },
  "cells": [
    {
      "cell_type": "code",
      "metadata": {
        "colab_type": "code",
        "id": "FNYr1At6z_QP",
        "outputId": "c7e97dfc-81f5-4c41-95bd-f45309744a74",
        "colab": {
          "base_uri": "https://localhost:8080/",
          "height": 34
        }
      },
      "source": [
        "from sklearn.preprocessing import LabelBinarizer as LB\n",
        "from sklearn.preprocessing import normalize \n",
        "from sklearn.metrics import confusion_matrix\n",
        "from sklearn.metrics import accuracy_score\n",
        "# --------------------\n",
        "from keras.layers.convolutional import Conv2D, ZeroPadding2D\n",
        "from keras.layers.core import Reshape, Flatten, Dropout\n",
        "from keras.callbacks import EarlyStopping\n",
        "from keras.models import Sequential\n",
        "from keras.models import load_model\n",
        "from keras.layers import Dense\n",
        "from keras import metrics\n",
        "# --------------------\n",
        "from pandas import DataFrame as df\n",
        "# --------------------\n",
        "import matplotlib.pyplot as plt\n",
        "import tensorflow as tf\n",
        "import numpy as np\n",
        "# --------------------\n",
        "import tarfile\n",
        "import pickle\n",
        "import random\n",
        "import keras\n",
        "import sys\n",
        "import gc\n"
      ],
      "execution_count": 0,
      "outputs": [
        {
          "output_type": "stream",
          "text": [
            "Using TensorFlow backend.\n"
          ],
          "name": "stderr"
        }
      ]
    },
    {
      "cell_type": "code",
      "metadata": {
        "colab_type": "code",
        "id": "6wEh_j9A-36T",
        "outputId": "4215c43b-9103-44b8-82be-e63a19e2ca8b",
        "colab": {
          "base_uri": "https://localhost:8080/",
          "height": 202
        }
      },
      "source": [
        "!wget http://opendata.deepsig.io/datasets/2016.10/RML2016.10b.tar.bz2\n",
        "!tar jxf RML2016.10b.tar.bz2"
      ],
      "execution_count": 0,
      "outputs": [
        {
          "output_type": "stream",
          "text": [
            "--2019-05-07 10:25:10--  http://opendata.deepsig.io/datasets/2016.10/RML2016.10b.tar.bz2\n",
            "Resolving opendata.deepsig.io (opendata.deepsig.io)... 52.14.91.165\n",
            "Connecting to opendata.deepsig.io (opendata.deepsig.io)|52.14.91.165|:80... connected.\n",
            "HTTP request sent, awaiting response... 200 OK\n",
            "Length: 1245608913 (1.2G) [application/x-bzip2]\n",
            "Saving to: ‘RML2016.10b.tar.bz2’\n",
            "\n",
            "RML2016.10b.tar.bz2 100%[===================>]   1.16G  14.7MB/s    in 80s     \n",
            "\n",
            "2019-05-07 10:26:30 (14.9 MB/s) - ‘RML2016.10b.tar.bz2’ saved [1245608913/1245608913]\n",
            "\n"
          ],
          "name": "stdout"
        }
      ]
    },
    {
      "cell_type": "code",
      "metadata": {
        "colab_type": "code",
        "id": "aAUjInDf0M4c",
        "colab": {}
      },
      "source": [
        "file = open(\"RML2016.10b.dat\",'rb')\n",
        "Xd = pickle.load(file, encoding = 'bytes')\n",
        "snrs, mods = map(lambda j: sorted(list(set(map(lambda x: x[j], Xd.keys())))), [1,0])\n",
        "X = [] \n",
        "lbl = []\n",
        "for mod in mods:\n",
        "    for snr in snrs:\n",
        "        X.append(Xd[(mod,snr)])\n",
        "        for i in range(Xd[(mod,snr)].shape[0]):  lbl.append((mod,snr))\n",
        "X = np.vstack(X)\n",
        "file.close()"
      ],
      "execution_count": 0,
      "outputs": []
    },
    {
      "cell_type": "markdown",
      "metadata": {
        "colab_type": "text",
        "id": "0Q3EMKoJ-4v6"
      },
      "source": [
        "## Create Features Space"
      ]
    },
    {
      "cell_type": "code",
      "metadata": {
        "colab_type": "code",
        "id": "JygL40Bo_iNV",
        "colab": {}
      },
      "source": [
        "features = {}"
      ],
      "execution_count": 0,
      "outputs": []
    },
    {
      "cell_type": "markdown",
      "metadata": {
        "colab_type": "text",
        "id": "ek7kJ8xR_WOy"
      },
      "source": [
        "**Raw Time Feature**"
      ]
    },
    {
      "cell_type": "code",
      "metadata": {
        "colab_type": "code",
        "id": "L0hE1Y_PP-QQ",
        "colab": {}
      },
      "source": [
        "features['raw']        = X[:,0], X[:,1]"
      ],
      "execution_count": 0,
      "outputs": []
    },
    {
      "cell_type": "markdown",
      "metadata": {
        "colab_type": "text",
        "id": "pKkXenUh_Z9m"
      },
      "source": [
        "**First derivative in time**"
      ]
    },
    {
      "cell_type": "code",
      "metadata": {
        "colab_type": "code",
        "id": "CiGPAY7s_OOe",
        "colab": {}
      },
      "source": [
        "features['derivative'] = normalize(np.gradient(X[:,0], axis = 1)), normalize(np.gradient(X[:,1], axis = 1))"
      ],
      "execution_count": 0,
      "outputs": []
    },
    {
      "cell_type": "markdown",
      "metadata": {
        "colab_type": "text",
        "id": "wGyS6ZD7_ff2"
      },
      "source": [
        "**Integral in time**"
      ]
    },
    {
      "cell_type": "code",
      "metadata": {
        "colab_type": "code",
        "id": "0Jc15J5r_OfX",
        "colab": {}
      },
      "source": [
        "features['integral']   = normalize(np.cumsum(X[:,0], axis = 1)), normalize(np.cumsum(X[:,1], axis = 1))"
      ],
      "execution_count": 0,
      "outputs": []
    },
    {
      "cell_type": "markdown",
      "metadata": {
        "colab_type": "text",
        "id": "OvGETT-I_jAQ"
      },
      "source": [
        "**All Togetheer Feature Space**"
      ]
    },
    {
      "cell_type": "code",
      "metadata": {
        "colab_type": "code",
        "id": "WDuvdmZo4CDR",
        "colab": {}
      },
      "source": [
        "def extract_features(*arguments):\n",
        "    \n",
        "    desired = ()            \n",
        "    for arg in arguments:\n",
        "        desired += features[arg]\n",
        "    \n",
        "    return np.stack(desired, axis = 1)"
      ],
      "execution_count": 0,
      "outputs": []
    },
    {
      "cell_type": "markdown",
      "metadata": {
        "colab_type": "text",
        "id": "wfnBc-rxCyQZ"
      },
      "source": [
        "## Train and Test Data Split"
      ]
    },
    {
      "cell_type": "markdown",
      "metadata": {
        "id": "YlJR6RczgdWm",
        "colab_type": "text"
      },
      "source": [
        "** features Choice **"
      ]
    },
    {
      "cell_type": "code",
      "metadata": {
        "colab_type": "code",
        "id": "VYkv4lQuDR2F",
        "colab": {}
      },
      "source": [
        "data = extract_features('raw')\n",
        "labels = np.array(lbl)"
      ],
      "execution_count": 0,
      "outputs": []
    },
    {
      "cell_type": "code",
      "metadata": {
        "id": "e-oc9F5TKs4-",
        "colab_type": "code",
        "colab": {}
      },
      "source": [
        "in_shape = data[0].shape\n",
        "out_shape = tuple([1]) + in_shape"
      ],
      "execution_count": 0,
      "outputs": []
    },
    {
      "cell_type": "markdown",
      "metadata": {
        "id": "wUZmyeIEglDy",
        "colab_type": "text"
      },
      "source": [
        "** data shuffling & splitting **"
      ]
    },
    {
      "cell_type": "code",
      "metadata": {
        "id": "qtUPPE4KKs45",
        "colab_type": "code",
        "colab": {}
      },
      "source": [
        "np.random.seed(10)\n",
        "\n",
        "n_examples = labels.shape[0]\n",
        "\n",
        "r = np.random.choice(range(n_examples), n_examples, replace = False)\n",
        "\n",
        "train_examples = r[:n_examples//2]\n",
        "test_examples =  r[n_examples//2:]"
      ],
      "execution_count": 0,
      "outputs": []
    },
    {
      "cell_type": "code",
      "metadata": {
        "id": "V-gyBJhwKs47",
        "colab_type": "code",
        "colab": {}
      },
      "source": [
        "X_train = data[train_examples]\n",
        "X_test = data[test_examples]\n",
        "\n",
        "y_train = LB().fit_transform(labels[train_examples][:,0])\n",
        "y_test = LB().fit_transform(labels[test_examples][:,0])\n",
        "\n",
        "snr_train = labels[train_examples][:,1].astype(int)\n",
        "snr_test = labels[test_examples][:,1].astype(int)"
      ],
      "execution_count": 0,
      "outputs": []
    },
    {
      "cell_type": "markdown",
      "metadata": {
        "colab_type": "text",
        "id": "wQ-_55WYBK84"
      },
      "source": [
        "## Model for Fully Connected Nueral Networks"
      ]
    },
    {
      "cell_type": "code",
      "metadata": {
        "colab_type": "code",
        "id": "PG7uZfW5BReR",
        "colab": {}
      },
      "source": [
        "model = Sequential()\n",
        "model.add(Dense(128, activation ='relu', input_shape = in_shape))\n",
        "model.add(Dense(256, activation ='relu'))\n",
        "model.add(Dense(128, activation ='relu'))\n",
        "model.add(Flatten())\n",
        "model.add(Dense(10, activation ='softmax'))"
      ],
      "execution_count": 0,
      "outputs": []
    },
    {
      "cell_type": "code",
      "metadata": {
        "colab_type": "code",
        "id": "dD6IMRuVDrNw",
        "outputId": "25032268-f636-4854-da60-a67846489087",
        "colab": {
          "base_uri": "https://localhost:8080/",
          "height": 302
        }
      },
      "source": [
        "model.compile(optimizer = 'adam', loss = 'categorical_crossentropy',  metrics = ['accuracy'])\n",
        "model.summary()"
      ],
      "execution_count": 0,
      "outputs": [
        {
          "output_type": "stream",
          "text": [
            "_________________________________________________________________\n",
            "Layer (type)                 Output Shape              Param #   \n",
            "=================================================================\n",
            "dense_17 (Dense)             (None, 2, 128)            16512     \n",
            "_________________________________________________________________\n",
            "dense_18 (Dense)             (None, 2, 256)            33024     \n",
            "_________________________________________________________________\n",
            "dense_19 (Dense)             (None, 2, 128)            32896     \n",
            "_________________________________________________________________\n",
            "flatten_5 (Flatten)          (None, 256)               0         \n",
            "_________________________________________________________________\n",
            "dense_20 (Dense)             (None, 10)                2570      \n",
            "=================================================================\n",
            "Total params: 85,002\n",
            "Trainable params: 85,002\n",
            "Non-trainable params: 0\n",
            "_________________________________________________________________\n"
          ],
          "name": "stdout"
        }
      ]
    },
    {
      "cell_type": "code",
      "metadata": {
        "colab_type": "code",
        "id": "ypR5DdtwLse0",
        "outputId": "87b233b8-4a32-41e8-bb09-cdbef0fbdac2",
        "colab": {
          "base_uri": "https://localhost:8080/",
          "height": 3410
        }
      },
      "source": [
        "model.fit(X_train, y_train, epochs = 100, validation_split = 0.05, batch_size = 2048, callbacks=[EarlyStopping(patience = 15, restore_best_weights = True)])"
      ],
      "execution_count": 0,
      "outputs": [
        {
          "output_type": "stream",
          "text": [
            "Train on 570000 samples, validate on 30000 samples\n",
            "Epoch 1/100\n",
            "570000/570000 [==============================] - 3s 5us/step - loss: 1.9505 - acc: 0.2401 - val_loss: 1.7490 - val_acc: 0.3070\n",
            "Epoch 2/100\n",
            "570000/570000 [==============================] - 2s 4us/step - loss: 1.6754 - acc: 0.3297 - val_loss: 1.5935 - val_acc: 0.3523\n",
            "Epoch 3/100\n",
            "570000/570000 [==============================] - 2s 4us/step - loss: 1.5797 - acc: 0.3639 - val_loss: 1.5399 - val_acc: 0.3792\n",
            "Epoch 4/100\n",
            "570000/570000 [==============================] - 2s 4us/step - loss: 1.5408 - acc: 0.3788 - val_loss: 1.5182 - val_acc: 0.3781\n",
            "Epoch 5/100\n",
            "570000/570000 [==============================] - 2s 4us/step - loss: 1.5179 - acc: 0.3855 - val_loss: 1.4933 - val_acc: 0.3894\n",
            "Epoch 6/100\n",
            "570000/570000 [==============================] - 2s 4us/step - loss: 1.5012 - acc: 0.3909 - val_loss: 1.4814 - val_acc: 0.4014\n",
            "Epoch 7/100\n",
            "570000/570000 [==============================] - 2s 4us/step - loss: 1.4892 - acc: 0.3951 - val_loss: 1.4723 - val_acc: 0.4041\n",
            "Epoch 8/100\n",
            "570000/570000 [==============================] - 2s 4us/step - loss: 1.4798 - acc: 0.3978 - val_loss: 1.4593 - val_acc: 0.4090\n",
            "Epoch 9/100\n",
            "570000/570000 [==============================] - 2s 4us/step - loss: 1.4718 - acc: 0.4007 - val_loss: 1.4567 - val_acc: 0.4100\n",
            "Epoch 10/100\n",
            "570000/570000 [==============================] - 2s 4us/step - loss: 1.4646 - acc: 0.4040 - val_loss: 1.4559 - val_acc: 0.4059\n",
            "Epoch 11/100\n",
            "570000/570000 [==============================] - 2s 4us/step - loss: 1.4589 - acc: 0.4061 - val_loss: 1.4534 - val_acc: 0.4052\n",
            "Epoch 12/100\n",
            "570000/570000 [==============================] - 2s 4us/step - loss: 1.4549 - acc: 0.4080 - val_loss: 1.4420 - val_acc: 0.4123\n",
            "Epoch 13/100\n",
            "570000/570000 [==============================] - 2s 4us/step - loss: 1.4522 - acc: 0.4090 - val_loss: 1.4438 - val_acc: 0.4106\n",
            "Epoch 14/100\n",
            "570000/570000 [==============================] - 2s 4us/step - loss: 1.4487 - acc: 0.4103 - val_loss: 1.4385 - val_acc: 0.4143\n",
            "Epoch 15/100\n",
            "570000/570000 [==============================] - 2s 4us/step - loss: 1.4460 - acc: 0.4115 - val_loss: 1.4354 - val_acc: 0.4144\n",
            "Epoch 16/100\n",
            "570000/570000 [==============================] - 2s 4us/step - loss: 1.4435 - acc: 0.4128 - val_loss: 1.4330 - val_acc: 0.4132\n",
            "Epoch 17/100\n",
            "570000/570000 [==============================] - 2s 4us/step - loss: 1.4425 - acc: 0.4130 - val_loss: 1.4355 - val_acc: 0.4165\n",
            "Epoch 18/100\n",
            "570000/570000 [==============================] - 2s 4us/step - loss: 1.4404 - acc: 0.4136 - val_loss: 1.4403 - val_acc: 0.4091\n",
            "Epoch 19/100\n",
            "570000/570000 [==============================] - 2s 4us/step - loss: 1.4390 - acc: 0.4139 - val_loss: 1.4379 - val_acc: 0.4108\n",
            "Epoch 20/100\n",
            "570000/570000 [==============================] - 2s 4us/step - loss: 1.4374 - acc: 0.4149 - val_loss: 1.4323 - val_acc: 0.4140\n",
            "Epoch 21/100\n",
            "570000/570000 [==============================] - 2s 4us/step - loss: 1.4368 - acc: 0.4138 - val_loss: 1.4305 - val_acc: 0.4158\n",
            "Epoch 22/100\n",
            "570000/570000 [==============================] - 2s 4us/step - loss: 1.4337 - acc: 0.4164 - val_loss: 1.4252 - val_acc: 0.4201\n",
            "Epoch 23/100\n",
            "570000/570000 [==============================] - 2s 4us/step - loss: 1.4331 - acc: 0.4163 - val_loss: 1.4256 - val_acc: 0.4196\n",
            "Epoch 24/100\n",
            "570000/570000 [==============================] - 2s 4us/step - loss: 1.4328 - acc: 0.4152 - val_loss: 1.4262 - val_acc: 0.4187\n",
            "Epoch 25/100\n",
            "570000/570000 [==============================] - 2s 4us/step - loss: 1.4309 - acc: 0.4171 - val_loss: 1.4307 - val_acc: 0.4089\n",
            "Epoch 26/100\n",
            "570000/570000 [==============================] - 2s 4us/step - loss: 1.4295 - acc: 0.4172 - val_loss: 1.4228 - val_acc: 0.4198\n",
            "Epoch 27/100\n",
            "570000/570000 [==============================] - 2s 4us/step - loss: 1.4287 - acc: 0.4181 - val_loss: 1.4235 - val_acc: 0.4167\n",
            "Epoch 28/100\n",
            "570000/570000 [==============================] - 2s 4us/step - loss: 1.4280 - acc: 0.4180 - val_loss: 1.4270 - val_acc: 0.4175\n",
            "Epoch 29/100\n",
            "570000/570000 [==============================] - 2s 4us/step - loss: 1.4274 - acc: 0.4179 - val_loss: 1.4236 - val_acc: 0.4148\n",
            "Epoch 30/100\n",
            "570000/570000 [==============================] - 2s 4us/step - loss: 1.4255 - acc: 0.4190 - val_loss: 1.4229 - val_acc: 0.4190\n",
            "Epoch 31/100\n",
            "570000/570000 [==============================] - 2s 4us/step - loss: 1.4255 - acc: 0.4190 - val_loss: 1.4279 - val_acc: 0.4162\n",
            "Epoch 32/100\n",
            "570000/570000 [==============================] - 2s 4us/step - loss: 1.4244 - acc: 0.4196 - val_loss: 1.4263 - val_acc: 0.4170\n",
            "Epoch 33/100\n",
            "570000/570000 [==============================] - 2s 4us/step - loss: 1.4241 - acc: 0.4193 - val_loss: 1.4298 - val_acc: 0.4147\n",
            "Epoch 34/100\n",
            "570000/570000 [==============================] - 2s 4us/step - loss: 1.4228 - acc: 0.4197 - val_loss: 1.4237 - val_acc: 0.4183\n",
            "Epoch 35/100\n",
            "570000/570000 [==============================] - 2s 4us/step - loss: 1.4209 - acc: 0.4210 - val_loss: 1.4209 - val_acc: 0.4194\n",
            "Epoch 36/100\n",
            "570000/570000 [==============================] - 2s 4us/step - loss: 1.4202 - acc: 0.4211 - val_loss: 1.4203 - val_acc: 0.4193\n",
            "Epoch 37/100\n",
            "570000/570000 [==============================] - 2s 4us/step - loss: 1.4198 - acc: 0.4203 - val_loss: 1.4183 - val_acc: 0.4169\n",
            "Epoch 38/100\n",
            "570000/570000 [==============================] - 2s 4us/step - loss: 1.4179 - acc: 0.4220 - val_loss: 1.4206 - val_acc: 0.4179\n",
            "Epoch 39/100\n",
            "570000/570000 [==============================] - 2s 4us/step - loss: 1.4180 - acc: 0.4220 - val_loss: 1.4167 - val_acc: 0.4221\n",
            "Epoch 40/100\n",
            "570000/570000 [==============================] - 2s 4us/step - loss: 1.4167 - acc: 0.4223 - val_loss: 1.4155 - val_acc: 0.4238\n",
            "Epoch 41/100\n",
            "570000/570000 [==============================] - 2s 4us/step - loss: 1.4154 - acc: 0.4231 - val_loss: 1.4170 - val_acc: 0.4239\n",
            "Epoch 42/100\n",
            "570000/570000 [==============================] - 2s 4us/step - loss: 1.4138 - acc: 0.4236 - val_loss: 1.4190 - val_acc: 0.4221\n",
            "Epoch 43/100\n",
            "570000/570000 [==============================] - 2s 4us/step - loss: 1.4146 - acc: 0.4234 - val_loss: 1.4141 - val_acc: 0.4245\n",
            "Epoch 44/100\n",
            "570000/570000 [==============================] - 2s 4us/step - loss: 1.4123 - acc: 0.4249 - val_loss: 1.4177 - val_acc: 0.4187\n",
            "Epoch 45/100\n",
            "570000/570000 [==============================] - 2s 4us/step - loss: 1.4116 - acc: 0.4250 - val_loss: 1.4194 - val_acc: 0.4235\n",
            "Epoch 46/100\n",
            "570000/570000 [==============================] - 2s 4us/step - loss: 1.4105 - acc: 0.4262 - val_loss: 1.4129 - val_acc: 0.4256\n",
            "Epoch 47/100\n",
            "570000/570000 [==============================] - 2s 4us/step - loss: 1.4084 - acc: 0.4269 - val_loss: 1.4105 - val_acc: 0.4282\n",
            "Epoch 48/100\n",
            "570000/570000 [==============================] - 2s 4us/step - loss: 1.4070 - acc: 0.4279 - val_loss: 1.4075 - val_acc: 0.4264\n",
            "Epoch 49/100\n",
            "570000/570000 [==============================] - 2s 4us/step - loss: 1.4051 - acc: 0.4286 - val_loss: 1.4119 - val_acc: 0.4190\n",
            "Epoch 50/100\n",
            "570000/570000 [==============================] - 2s 4us/step - loss: 1.4052 - acc: 0.4290 - val_loss: 1.4159 - val_acc: 0.4210\n",
            "Epoch 51/100\n",
            "570000/570000 [==============================] - 2s 4us/step - loss: 1.4026 - acc: 0.4300 - val_loss: 1.4058 - val_acc: 0.4243\n",
            "Epoch 52/100\n",
            "570000/570000 [==============================] - 2s 4us/step - loss: 1.4002 - acc: 0.4320 - val_loss: 1.4053 - val_acc: 0.4300\n",
            "Epoch 53/100\n",
            "570000/570000 [==============================] - 2s 4us/step - loss: 1.4004 - acc: 0.4318 - val_loss: 1.4043 - val_acc: 0.4323\n",
            "Epoch 54/100\n",
            "570000/570000 [==============================] - 2s 4us/step - loss: 1.3994 - acc: 0.4321 - val_loss: 1.4095 - val_acc: 0.4255\n",
            "Epoch 55/100\n",
            "570000/570000 [==============================] - 2s 4us/step - loss: 1.3989 - acc: 0.4330 - val_loss: 1.4043 - val_acc: 0.4289\n",
            "Epoch 56/100\n",
            "570000/570000 [==============================] - 2s 4us/step - loss: 1.3977 - acc: 0.4334 - val_loss: 1.4031 - val_acc: 0.4294\n",
            "Epoch 57/100\n",
            "570000/570000 [==============================] - 2s 4us/step - loss: 1.3966 - acc: 0.4338 - val_loss: 1.4022 - val_acc: 0.4297\n",
            "Epoch 58/100\n",
            "570000/570000 [==============================] - 2s 4us/step - loss: 1.3954 - acc: 0.4346 - val_loss: 1.3988 - val_acc: 0.4313\n",
            "Epoch 59/100\n",
            "570000/570000 [==============================] - 2s 4us/step - loss: 1.3945 - acc: 0.4346 - val_loss: 1.3999 - val_acc: 0.4309\n",
            "Epoch 60/100\n",
            "570000/570000 [==============================] - 2s 4us/step - loss: 1.3935 - acc: 0.4356 - val_loss: 1.3991 - val_acc: 0.4344\n",
            "Epoch 61/100\n",
            "570000/570000 [==============================] - 2s 4us/step - loss: 1.3924 - acc: 0.4359 - val_loss: 1.4032 - val_acc: 0.4323\n",
            "Epoch 62/100\n",
            "570000/570000 [==============================] - 2s 4us/step - loss: 1.3919 - acc: 0.4362 - val_loss: 1.4012 - val_acc: 0.4303\n",
            "Epoch 63/100\n",
            "570000/570000 [==============================] - 2s 4us/step - loss: 1.3907 - acc: 0.4360 - val_loss: 1.3994 - val_acc: 0.4328\n",
            "Epoch 64/100\n",
            "570000/570000 [==============================] - 2s 4us/step - loss: 1.3897 - acc: 0.4366 - val_loss: 1.4002 - val_acc: 0.4339\n",
            "Epoch 65/100\n",
            "570000/570000 [==============================] - 2s 4us/step - loss: 1.3882 - acc: 0.4376 - val_loss: 1.3963 - val_acc: 0.4310\n",
            "Epoch 66/100\n",
            "570000/570000 [==============================] - 2s 4us/step - loss: 1.3866 - acc: 0.4381 - val_loss: 1.3939 - val_acc: 0.4351\n",
            "Epoch 67/100\n",
            "570000/570000 [==============================] - 2s 4us/step - loss: 1.3838 - acc: 0.4393 - val_loss: 1.3916 - val_acc: 0.4358\n",
            "Epoch 68/100\n",
            "570000/570000 [==============================] - 2s 4us/step - loss: 1.3818 - acc: 0.4397 - val_loss: 1.3938 - val_acc: 0.4345\n",
            "Epoch 69/100\n",
            "570000/570000 [==============================] - 2s 4us/step - loss: 1.3797 - acc: 0.4409 - val_loss: 1.3912 - val_acc: 0.4337\n",
            "Epoch 70/100\n",
            "570000/570000 [==============================] - 2s 4us/step - loss: 1.3772 - acc: 0.4423 - val_loss: 1.3891 - val_acc: 0.4381\n",
            "Epoch 71/100\n",
            "570000/570000 [==============================] - 2s 4us/step - loss: 1.3746 - acc: 0.4437 - val_loss: 1.3809 - val_acc: 0.4405\n",
            "Epoch 72/100\n",
            "570000/570000 [==============================] - 2s 4us/step - loss: 1.3728 - acc: 0.4449 - val_loss: 1.3822 - val_acc: 0.4379\n",
            "Epoch 73/100\n",
            "570000/570000 [==============================] - 2s 4us/step - loss: 1.3695 - acc: 0.4461 - val_loss: 1.3791 - val_acc: 0.4405\n",
            "Epoch 74/100\n",
            "570000/570000 [==============================] - 2s 4us/step - loss: 1.3677 - acc: 0.4472 - val_loss: 1.3841 - val_acc: 0.4394\n",
            "Epoch 75/100\n",
            "570000/570000 [==============================] - 2s 4us/step - loss: 1.3656 - acc: 0.4473 - val_loss: 1.3743 - val_acc: 0.4397\n",
            "Epoch 76/100\n",
            "570000/570000 [==============================] - 2s 4us/step - loss: 1.3635 - acc: 0.4486 - val_loss: 1.3722 - val_acc: 0.4445\n",
            "Epoch 77/100\n",
            "570000/570000 [==============================] - 2s 4us/step - loss: 1.3624 - acc: 0.4490 - val_loss: 1.3740 - val_acc: 0.4442\n",
            "Epoch 78/100\n",
            "570000/570000 [==============================] - 2s 4us/step - loss: 1.3598 - acc: 0.4503 - val_loss: 1.3733 - val_acc: 0.4401\n",
            "Epoch 79/100\n",
            "570000/570000 [==============================] - 2s 4us/step - loss: 1.3583 - acc: 0.4507 - val_loss: 1.3705 - val_acc: 0.4432\n",
            "Epoch 80/100\n",
            "570000/570000 [==============================] - 2s 4us/step - loss: 1.3562 - acc: 0.4519 - val_loss: 1.3686 - val_acc: 0.4422\n",
            "Epoch 81/100\n",
            "570000/570000 [==============================] - 2s 4us/step - loss: 1.3546 - acc: 0.4527 - val_loss: 1.3679 - val_acc: 0.4415\n",
            "Epoch 82/100\n",
            "570000/570000 [==============================] - 2s 4us/step - loss: 1.3513 - acc: 0.4533 - val_loss: 1.3683 - val_acc: 0.4445\n",
            "Epoch 83/100\n",
            "570000/570000 [==============================] - 2s 4us/step - loss: 1.3498 - acc: 0.4547 - val_loss: 1.3640 - val_acc: 0.4474\n",
            "Epoch 84/100\n",
            "570000/570000 [==============================] - 2s 4us/step - loss: 1.3482 - acc: 0.4553 - val_loss: 1.3633 - val_acc: 0.4469\n",
            "Epoch 85/100\n",
            "570000/570000 [==============================] - 2s 4us/step - loss: 1.3461 - acc: 0.4550 - val_loss: 1.3601 - val_acc: 0.4513\n",
            "Epoch 86/100\n",
            "570000/570000 [==============================] - 2s 4us/step - loss: 1.3446 - acc: 0.4564 - val_loss: 1.3604 - val_acc: 0.4476\n",
            "Epoch 87/100\n",
            "570000/570000 [==============================] - 2s 4us/step - loss: 1.3421 - acc: 0.4573 - val_loss: 1.3557 - val_acc: 0.4509\n",
            "Epoch 88/100\n",
            "570000/570000 [==============================] - 2s 4us/step - loss: 1.3412 - acc: 0.4573 - val_loss: 1.3531 - val_acc: 0.4516\n",
            "Epoch 89/100\n",
            "570000/570000 [==============================] - 2s 4us/step - loss: 1.3383 - acc: 0.4584 - val_loss: 1.3553 - val_acc: 0.4455\n",
            "Epoch 90/100\n",
            "570000/570000 [==============================] - 2s 4us/step - loss: 1.3375 - acc: 0.4592 - val_loss: 1.3579 - val_acc: 0.4489\n",
            "Epoch 91/100\n",
            "570000/570000 [==============================] - 2s 4us/step - loss: 1.3347 - acc: 0.4605 - val_loss: 1.3542 - val_acc: 0.4487\n",
            "Epoch 92/100\n",
            "570000/570000 [==============================] - 2s 4us/step - loss: 1.3334 - acc: 0.4602 - val_loss: 1.3640 - val_acc: 0.4454\n",
            "Epoch 93/100\n",
            "570000/570000 [==============================] - 2s 4us/step - loss: 1.3312 - acc: 0.4614 - val_loss: 1.3530 - val_acc: 0.4488\n",
            "Epoch 94/100\n",
            "570000/570000 [==============================] - 2s 4us/step - loss: 1.3316 - acc: 0.4613 - val_loss: 1.3502 - val_acc: 0.4537\n",
            "Epoch 95/100\n",
            "570000/570000 [==============================] - 2s 4us/step - loss: 1.3273 - acc: 0.4629 - val_loss: 1.3456 - val_acc: 0.4548\n",
            "Epoch 96/100\n",
            "570000/570000 [==============================] - 2s 4us/step - loss: 1.3253 - acc: 0.4637 - val_loss: 1.3452 - val_acc: 0.4564\n",
            "Epoch 97/100\n",
            "570000/570000 [==============================] - 2s 4us/step - loss: 1.3237 - acc: 0.4638 - val_loss: 1.3423 - val_acc: 0.4504\n",
            "Epoch 98/100\n",
            "570000/570000 [==============================] - 2s 4us/step - loss: 1.3221 - acc: 0.4646 - val_loss: 1.3393 - val_acc: 0.4571\n",
            "Epoch 99/100\n",
            "570000/570000 [==============================] - 2s 4us/step - loss: 1.3196 - acc: 0.4659 - val_loss: 1.3396 - val_acc: 0.4532\n",
            "Epoch 100/100\n",
            "570000/570000 [==============================] - 2s 4us/step - loss: 1.3186 - acc: 0.4659 - val_loss: 1.3465 - val_acc: 0.4505\n"
          ],
          "name": "stdout"
        },
        {
          "output_type": "execute_result",
          "data": {
            "text/plain": [
              "<keras.callbacks.History at 0x7ffa50d9c9b0>"
            ]
          },
          "metadata": {
            "tags": []
          },
          "execution_count": 43
        }
      ]
    },
    {
      "cell_type": "code",
      "metadata": {
        "id": "GHqxuT5ZkabZ",
        "colab_type": "code",
        "colab": {}
      },
      "source": [
        "model.save('ann.h5')"
      ],
      "execution_count": 0,
      "outputs": []
    },
    {
      "cell_type": "markdown",
      "metadata": {
        "colab_type": "text",
        "id": "A7WC0d9sDyg-"
      },
      "source": [
        "## \"AbRo\" Model for Convolution Connected Neural Networks"
      ]
    },
    {
      "cell_type": "code",
      "metadata": {
        "colab_type": "code",
        "id": "2Y8zIXRfZEX2",
        "colab": {}
      },
      "source": [
        "dr = 0.5\n",
        "model = Sequential()\n",
        "model.add(Reshape(out_shape, input_shape = in_shape))\n",
        "model.add(ZeroPadding2D((0, 2), data_format = 'channels_first'))\n",
        "model.add(Conv2D(256, (1, 3), padding = 'valid', activation = \"relu\", name=\"conv1\", kernel_initializer='glorot_uniform', data_format=\"channels_first\"))\n",
        "model.add(Dropout(dr))\n",
        "model.add(ZeroPadding2D((0,2), data_format = 'channels_first'))\n",
        "model.add(Conv2D(80, (2, 3), activation=\"relu\", name=\"conv3\", padding=\"valid\", kernel_initializer=\"glorot_uniform\", data_format=\"channels_first\"))\n",
        "model.add(Dropout(dr))\n",
        "model.add(Flatten())   \n",
        "model.add(Dense(256, activation=\"relu\", name=\"dense1\", kernel_initializer=\"he_normal\"))\n",
        "model.add(Dropout(dr))\n",
        "model.add(Dense(10, name=\"dense3\", kernel_initializer=\"he_normal\", activation = 'softmax'))\n",
        "model.add(Reshape([len(mods)]))"
      ],
      "execution_count": 0,
      "outputs": []
    },
    {
      "cell_type": "code",
      "metadata": {
        "id": "dhkPZ29VKs5W",
        "colab_type": "code",
        "outputId": "90dca9ef-abb5-46d6-be89-4ce8b6acae3c",
        "colab": {
          "base_uri": "https://localhost:8080/",
          "height": 538
        }
      },
      "source": [
        "model.compile(loss='categorical_crossentropy', optimizer='adam', metrics = ['accuracy'])\n",
        "model.summary()"
      ],
      "execution_count": 0,
      "outputs": [
        {
          "output_type": "stream",
          "text": [
            "_________________________________________________________________\n",
            "Layer (type)                 Output Shape              Param #   \n",
            "=================================================================\n",
            "reshape_66 (Reshape)         (None, 1, 2, 128)         0         \n",
            "_________________________________________________________________\n",
            "zero_padding2d_76 (ZeroPaddi (None, 1, 2, 132)         0         \n",
            "_________________________________________________________________\n",
            "conv1 (Conv2D)               (None, 256, 2, 130)       1024      \n",
            "_________________________________________________________________\n",
            "dropout_39 (Dropout)         (None, 256, 2, 130)       0         \n",
            "_________________________________________________________________\n",
            "zero_padding2d_77 (ZeroPaddi (None, 256, 2, 134)       0         \n",
            "_________________________________________________________________\n",
            "conv3 (Conv2D)               (None, 80, 1, 132)        122960    \n",
            "_________________________________________________________________\n",
            "dropout_40 (Dropout)         (None, 80, 1, 132)        0         \n",
            "_________________________________________________________________\n",
            "flatten_16 (Flatten)         (None, 10560)             0         \n",
            "_________________________________________________________________\n",
            "dense1 (Dense)               (None, 256)               2703616   \n",
            "_________________________________________________________________\n",
            "dropout_41 (Dropout)         (None, 256)               0         \n",
            "_________________________________________________________________\n",
            "dense3 (Dense)               (None, 10)                2570      \n",
            "_________________________________________________________________\n",
            "reshape_67 (Reshape)         (None, 10)                0         \n",
            "=================================================================\n",
            "Total params: 2,830,170\n",
            "Trainable params: 2,830,170\n",
            "Non-trainable params: 0\n",
            "_________________________________________________________________\n"
          ],
          "name": "stdout"
        }
      ]
    },
    {
      "cell_type": "code",
      "metadata": {
        "colab_type": "code",
        "id": "KJnFGjvG8CS2",
        "outputId": "0896390e-6e08-4856-f530-df9e98dbeb75",
        "colab": {
          "base_uri": "https://localhost:8080/",
          "height": 1764
        }
      },
      "source": [
        "model.fit(X_train, y_train, epochs = 80, batch_size = 1024, validation_split = 0.05, callbacks=[EarlyStopping(patience = 15, restore_best_weights = True)])"
      ],
      "execution_count": 0,
      "outputs": [
        {
          "output_type": "stream",
          "text": [
            "Train on 570000 samples, validate on 30000 samples\n",
            "Epoch 1/80\n",
            "570000/570000 [==============================] - 58s 101us/step - loss: 1.1971 - acc: 0.4956 - val_loss: 1.1119 - val_acc: 0.5397\n",
            "Epoch 2/80\n",
            "570000/570000 [==============================] - 58s 101us/step - loss: 1.1916 - acc: 0.4976 - val_loss: 1.1040 - val_acc: 0.5362\n",
            "Epoch 3/80\n",
            "570000/570000 [==============================] - 58s 101us/step - loss: 1.1895 - acc: 0.4987 - val_loss: 1.0946 - val_acc: 0.5404\n",
            "Epoch 4/80\n",
            "570000/570000 [==============================] - 58s 101us/step - loss: 1.1869 - acc: 0.5001 - val_loss: 1.0999 - val_acc: 0.5363\n",
            "Epoch 5/80\n",
            "570000/570000 [==============================] - 58s 101us/step - loss: 1.1820 - acc: 0.5034 - val_loss: 1.0884 - val_acc: 0.5440\n",
            "Epoch 6/80\n",
            "570000/570000 [==============================] - 58s 101us/step - loss: 1.1774 - acc: 0.5060 - val_loss: 1.0881 - val_acc: 0.5441\n",
            "Epoch 7/80\n",
            "570000/570000 [==============================] - 58s 101us/step - loss: 1.1740 - acc: 0.5069 - val_loss: 1.0882 - val_acc: 0.5396\n",
            "Epoch 8/80\n",
            "570000/570000 [==============================] - 58s 101us/step - loss: 1.1699 - acc: 0.5084 - val_loss: 1.0903 - val_acc: 0.5381\n",
            "Epoch 9/80\n",
            "570000/570000 [==============================] - 58s 101us/step - loss: 1.1689 - acc: 0.5084 - val_loss: 1.0882 - val_acc: 0.5456\n",
            "Epoch 10/80\n",
            "570000/570000 [==============================] - 58s 101us/step - loss: 1.1671 - acc: 0.5100 - val_loss: 1.0895 - val_acc: 0.5410\n",
            "Epoch 11/80\n",
            "570000/570000 [==============================] - 58s 101us/step - loss: 1.1649 - acc: 0.5104 - val_loss: 1.0953 - val_acc: 0.5410\n",
            "Epoch 12/80\n",
            "570000/570000 [==============================] - 58s 101us/step - loss: 1.1636 - acc: 0.5112 - val_loss: 1.0986 - val_acc: 0.5362\n",
            "Epoch 13/80\n",
            "570000/570000 [==============================] - 58s 101us/step - loss: 1.1588 - acc: 0.5123 - val_loss: 1.0824 - val_acc: 0.5426\n",
            "Epoch 14/80\n",
            "570000/570000 [==============================] - 58s 101us/step - loss: 1.1583 - acc: 0.5128 - val_loss: 1.0818 - val_acc: 0.5394\n",
            "Epoch 15/80\n",
            "570000/570000 [==============================] - 58s 101us/step - loss: 1.1578 - acc: 0.5135 - val_loss: 1.0753 - val_acc: 0.5468\n",
            "Epoch 16/80\n",
            "570000/570000 [==============================] - 58s 101us/step - loss: 1.1539 - acc: 0.5148 - val_loss: 1.0774 - val_acc: 0.5458\n",
            "Epoch 17/80\n",
            "570000/570000 [==============================] - 58s 101us/step - loss: 1.1536 - acc: 0.5151 - val_loss: 1.0809 - val_acc: 0.5451\n",
            "Epoch 18/80\n",
            "570000/570000 [==============================] - 58s 101us/step - loss: 1.1510 - acc: 0.5159 - val_loss: 1.0768 - val_acc: 0.5474\n",
            "Epoch 19/80\n",
            "570000/570000 [==============================] - 58s 101us/step - loss: 1.1487 - acc: 0.5166 - val_loss: 1.0777 - val_acc: 0.5437\n",
            "Epoch 20/80\n",
            "540672/570000 [===========================>..] - ETA: 2s - loss: 1.1471 - acc: 0.5181Epoch 21/80\n",
            "570000/570000 [==============================] - 58s 101us/step - loss: 1.1443 - acc: 0.5186 - val_loss: 1.0801 - val_acc: 0.5422\n",
            "Epoch 22/80\n",
            "570000/570000 [==============================] - 58s 101us/step - loss: 1.1449 - acc: 0.5186 - val_loss: 1.0793 - val_acc: 0.5485\n",
            "Epoch 23/80\n",
            "570000/570000 [==============================] - 58s 101us/step - loss: 1.1409 - acc: 0.5200 - val_loss: 1.0765 - val_acc: 0.5467\n",
            "Epoch 24/80\n",
            "570000/570000 [==============================] - 58s 101us/step - loss: 1.1412 - acc: 0.5195 - val_loss: 1.0845 - val_acc: 0.5430\n",
            "Epoch 25/80\n",
            "570000/570000 [==============================] - 58s 101us/step - loss: 1.1395 - acc: 0.5209 - val_loss: 1.0718 - val_acc: 0.5488\n",
            "Epoch 26/80\n",
            "570000/570000 [==============================] - 58s 101us/step - loss: 1.1367 - acc: 0.5211 - val_loss: 1.0782 - val_acc: 0.5500\n",
            "Epoch 27/80\n",
            "570000/570000 [==============================] - 58s 101us/step - loss: 1.1358 - acc: 0.5211 - val_loss: 1.0702 - val_acc: 0.5474\n",
            "Epoch 28/80\n",
            "570000/570000 [==============================] - 58s 101us/step - loss: 1.1332 - acc: 0.5226 - val_loss: 1.0774 - val_acc: 0.5508\n",
            "Epoch 29/80\n",
            "570000/570000 [==============================] - 58s 101us/step - loss: 1.1322 - acc: 0.5234 - val_loss: 1.0713 - val_acc: 0.5503\n",
            "Epoch 30/80\n",
            "570000/570000 [==============================] - 58s 101us/step - loss: 1.1300 - acc: 0.5242 - val_loss: 1.0749 - val_acc: 0.5497\n",
            "Epoch 31/80\n",
            "570000/570000 [==============================] - 58s 101us/step - loss: 1.1290 - acc: 0.5241 - val_loss: 1.0725 - val_acc: 0.5475\n",
            "Epoch 32/80\n",
            "570000/570000 [==============================] - 58s 101us/step - loss: 1.1264 - acc: 0.5273 - val_loss: 1.0656 - val_acc: 0.5556\n",
            "Epoch 33/80\n",
            "570000/570000 [==============================] - 58s 101us/step - loss: 1.1185 - acc: 0.5319 - val_loss: 1.0744 - val_acc: 0.5520\n",
            "Epoch 34/80\n",
            "570000/570000 [==============================] - 58s 101us/step - loss: 1.1178 - acc: 0.5330 - val_loss: 1.0595 - val_acc: 0.5588\n",
            "Epoch 35/80\n",
            "570000/570000 [==============================] - 58s 101us/step - loss: 1.1164 - acc: 0.5342 - val_loss: 1.0709 - val_acc: 0.5569\n",
            "Epoch 36/80\n",
            "570000/570000 [==============================] - 58s 101us/step - loss: 1.1149 - acc: 0.5343 - val_loss: 1.0653 - val_acc: 0.5579\n",
            "Epoch 37/80\n",
            "570000/570000 [==============================] - 58s 101us/step - loss: 1.1126 - acc: 0.5359 - val_loss: 1.0561 - val_acc: 0.5556\n",
            "Epoch 38/80\n",
            "570000/570000 [==============================] - 58s 101us/step - loss: 1.1112 - acc: 0.5357 - val_loss: 1.0618 - val_acc: 0.5578\n",
            "Epoch 39/80\n",
            "570000/570000 [==============================] - 58s 101us/step - loss: 1.1100 - acc: 0.5357 - val_loss: 1.0573 - val_acc: 0.5509\n",
            "Epoch 40/80\n",
            "570000/570000 [==============================] - 58s 101us/step - loss: 1.1078 - acc: 0.5380 - val_loss: 1.0549 - val_acc: 0.5604\n",
            "Epoch 41/80\n",
            "570000/570000 [==============================] - 58s 101us/step - loss: 1.1073 - acc: 0.5379 - val_loss: 1.0585 - val_acc: 0.5579\n",
            "Epoch 42/80\n",
            "570000/570000 [==============================] - 58s 101us/step - loss: 1.1073 - acc: 0.5384 - val_loss: 1.0536 - val_acc: 0.5614\n",
            "Epoch 43/80\n",
            "570000/570000 [==============================] - 58s 101us/step - loss: 1.1055 - acc: 0.5398 - val_loss: 1.0505 - val_acc: 0.5598\n",
            "Epoch 44/80\n",
            "570000/570000 [==============================] - 58s 101us/step - loss: 1.1007 - acc: 0.5413 - val_loss: 1.0485 - val_acc: 0.5616\n",
            "Epoch 45/80\n",
            "570000/570000 [==============================] - 58s 101us/step - loss: 1.0988 - acc: 0.5421 - val_loss: 1.0494 - val_acc: 0.5626\n",
            "Epoch 46/80\n",
            "570000/570000 [==============================] - 58s 101us/step - loss: 1.0992 - acc: 0.5434 - val_loss: 1.0472 - val_acc: 0.5628\n",
            "Epoch 47/80\n",
            "570000/570000 [==============================] - 58s 101us/step - loss: 1.0962 - acc: 0.5445 - val_loss: 1.0626 - val_acc: 0.5588\n",
            "Epoch 48/80\n",
            "570000/570000 [==============================] - 58s 101us/step - loss: 1.0949 - acc: 0.5458 - val_loss: 1.0470 - val_acc: 0.5616\n",
            "Epoch 49/80\n",
            "570000/570000 [==============================] - 58s 101us/step - loss: 1.0920 - acc: 0.5461 - val_loss: 1.0541 - val_acc: 0.5651\n",
            "Epoch 50/80\n",
            "570000/570000 [==============================] - 58s 101us/step - loss: 1.0891 - acc: 0.5485 - val_loss: 1.0396 - val_acc: 0.5686\n",
            "Epoch 51/80\n",
            "570000/570000 [==============================] - 58s 101us/step - loss: 1.0890 - acc: 0.5483 - val_loss: 1.0395 - val_acc: 0.5679\n",
            "Epoch 52/80\n",
            "339968/570000 [================>.............] - ETA: 22s - loss: 1.0840 - acc: 0.5507"
          ],
          "name": "stdout"
        }
      ]
    },
    {
      "cell_type": "code",
      "metadata": {
        "id": "xCboPj6HmePv",
        "colab_type": "code",
        "colab": {}
      },
      "source": [
        "model.save(\"cnn.h5\")"
      ],
      "execution_count": 0,
      "outputs": []
    },
    {
      "cell_type": "markdown",
      "metadata": {
        "id": "U1HLIWliWXFI",
        "colab_type": "text"
      },
      "source": [
        "## Evaluation"
      ]
    },
    {
      "cell_type": "code",
      "metadata": {
        "id": "Z7cLVWlrWapz",
        "colab_type": "code",
        "colab": {}
      },
      "source": [
        "def plot_results(predicted_labels, true_labels, snrs):\n",
        "  \n",
        "  sorted_snrs = np.sort(np.unique(snrs))\n",
        "  \n",
        "  x_axis = []\n",
        "  y_axis = []\n",
        "  for snr in sorted_snrs:\n",
        "    idx = np.where(snrs == snr)\n",
        "    #print('snr =', snr, '-->', accuracy_score(np.argmax(true_labels[idx], axis = 1), np.argmax(predicted_labels[idx], axis = 1)))\n",
        "    x_axis.append(snr)\n",
        "    y_axis.append(accuracy_score(np.argmax(true_labels[idx], axis = 1), np.argmax(predicted_labels[idx], axis = 1)))\n",
        "  \n",
        "  plt.xlabel('SNR')\n",
        "  plt.ylabel('Accuracy')\n",
        "  plt.title('Classification Accuracy over different SNRs')\n",
        "  plt.plot(x_axis, np.array(y_axis) * 100, 'ro--')\n",
        "  plt.grid(True)"
      ],
      "execution_count": 0,
      "outputs": []
    },
    {
      "cell_type": "code",
      "metadata": {
        "id": "6a0lJiO3r_Vi",
        "colab_type": "code",
        "colab": {}
      },
      "source": [
        "def print_results(predicted_labels, true_labels, snrs):\n",
        "  \n",
        "  sorted_snrs = np.sort(np.unique(snrs))\n",
        "  \n",
        "  x_axis = []\n",
        "  y_axis = []\n",
        "  for snr in sorted_snrs:\n",
        "    idx = np.where(snrs == snr)\n",
        "    #print('snr =', snr, '-->', accuracy_score(np.argmax(true_labels[idx], axis = 1), np.argmax(predicted_labels[idx], axis = 1)))\n",
        "    x_axis.append(snr)\n",
        "    y_axis.append(accuracy_score(np.argmax(true_labels[idx], axis = 1), np.argmax(predicted_labels[idx], axis = 1)))\n",
        "  \n",
        "  return df(data = np.array(y_axis).reshape(1, -1) * 100,  columns = sorted_snrs, index = ['accuracy']).round(2)"
      ],
      "execution_count": 0,
      "outputs": []
    },
    {
      "cell_type": "code",
      "metadata": {
        "id": "2FzcvVc6nmbC",
        "colab_type": "code",
        "colab": {}
      },
      "source": [
        "def plot_confusion_matrix(y_true, y_pred, classes, cmap=plt.cm.Blues):\n",
        "  y_true, y_pred = np.argmax(y_true, axis = 1), np.argmax(y_pred, axis = 1)\n",
        "  cm = confusion_matrix(y_true, y_pred)\n",
        "  cm = cm.astype('float') / cm.sum(axis=1)[:, np.newaxis]\n",
        "  fig, ax = plt.subplots()\n",
        "  im = ax.imshow(cm, interpolation='nearest', cmap=cmap)\n",
        "  ax.figure.colorbar(im, ax=ax)\n",
        "  # We want to show all ticks...\n",
        "  ax.set(xticks=np.arange(cm.shape[1]),\n",
        "         yticks=np.arange(cm.shape[0]),\n",
        "         # ... and label them with the respective list entries\n",
        "         xticklabels=classes, yticklabels=classes,\n",
        "         title = 'Confusion Matrix',\n",
        "         ylabel = 'True label',\n",
        "         xlabel = 'Predicted label')\n",
        "\n",
        "  # Rotate the tick labels and set their alignment.\n",
        "  plt.setp(ax.get_xticklabels(), rotation=45, ha=\"right\",\n",
        "           rotation_mode=\"anchor\")"
      ],
      "execution_count": 0,
      "outputs": []
    },
    {
      "cell_type": "markdown",
      "metadata": {
        "id": "jKW_xp8w8qN1",
        "colab_type": "text"
      },
      "source": [
        "** Fully Connected Neural Network Evaluation **"
      ]
    },
    {
      "cell_type": "code",
      "metadata": {
        "id": "S6xxG9VcrZfm",
        "colab_type": "code",
        "colab": {}
      },
      "source": [
        "ann_model = keras.models.load_model('ann.h5')"
      ],
      "execution_count": 0,
      "outputs": []
    },
    {
      "cell_type": "code",
      "metadata": {
        "id": "4Ktfm-fk37VG",
        "colab_type": "code",
        "colab": {}
      },
      "source": [
        "y_pred_ann = ann_model.predict(X_test)"
      ],
      "execution_count": 0,
      "outputs": []
    },
    {
      "cell_type": "code",
      "metadata": {
        "id": "LhjDFkCPW65X",
        "colab_type": "code",
        "outputId": "8dbb613b-4f9d-4489-d953-fba42fddf644",
        "colab": {
          "base_uri": "https://localhost:8080/",
          "height": 295
        }
      },
      "source": [
        "plot_results(y_pred_ann, y_test, snr_test)"
      ],
      "execution_count": 0,
      "outputs": [
        {
          "output_type": "display_data",
          "data": {
            "image/png": "[encoded data removed]",
            "text/plain": [
              "<Figure size 432x288 with 1 Axes>"
            ]
          },
          "metadata": {
            "tags": []
          }
        }
      ]
    },
    {
      "cell_type": "code",
      "metadata": {
        "id": "gioOOGHRsMfV",
        "colab_type": "code",
        "outputId": "1d2dad48-0f20-489e-ae04-b7f5243508ff",
        "colab": {
          "base_uri": "https://localhost:8080/",
          "height": 77
        }
      },
      "source": [
        "print_results(y_pred_ann, y_test, snr_test)"
      ],
      "execution_count": 0,
      "outputs": [
        {
          "output_type": "execute_result",
          "data": {
            "text/html": [
              "<div>\n",
              "<style scoped>\n",
              "    .dataframe tbody tr th:only-of-type {\n",
              "        vertical-align: middle;\n",
              "    }\n",
              "\n",
              "    .dataframe tbody tr th {\n",
              "        vertical-align: top;\n",
              "    }\n",
              "\n",
              "    .dataframe thead th {\n",
              "        text-align: right;\n",
              "    }\n",
              "</style>\n",
              "<table border=\"1\" class=\"dataframe\">\n",
              "  <thead>\n",
              "    <tr style=\"text-align: right;\">\n",
              "      <th></th>\n",
              "      <th>-20</th>\n",
              "      <th>-18</th>\n",
              "      <th>-16</th>\n",
              "      <th>-14</th>\n",
              "      <th>-12</th>\n",
              "      <th>-10</th>\n",
              "      <th>-8</th>\n",
              "      <th>-6</th>\n",
              "      <th>-4</th>\n",
              "      <th>-2</th>\n",
              "      <th>0</th>\n",
              "      <th>2</th>\n",
              "      <th>4</th>\n",
              "      <th>6</th>\n",
              "      <th>8</th>\n",
              "      <th>10</th>\n",
              "      <th>12</th>\n",
              "      <th>14</th>\n",
              "      <th>16</th>\n",
              "      <th>18</th>\n",
              "    </tr>\n",
              "  </thead>\n",
              "  <tbody>\n",
              "    <tr>\n",
              "      <th>accuracy</th>\n",
              "      <td>10.85</td>\n",
              "      <td>10.7</td>\n",
              "      <td>11.41</td>\n",
              "      <td>13.79</td>\n",
              "      <td>17.34</td>\n",
              "      <td>23.75</td>\n",
              "      <td>31.16</td>\n",
              "      <td>38.81</td>\n",
              "      <td>48.29</td>\n",
              "      <td>56.21</td>\n",
              "      <td>62.31</td>\n",
              "      <td>68.04</td>\n",
              "      <td>69.79</td>\n",
              "      <td>70.51</td>\n",
              "      <td>71.06</td>\n",
              "      <td>71.15</td>\n",
              "      <td>71.44</td>\n",
              "      <td>70.98</td>\n",
              "      <td>70.56</td>\n",
              "      <td>71.11</td>\n",
              "    </tr>\n",
              "  </tbody>\n",
              "</table>\n",
              "</div>"
            ],
            "text/plain": [
              "            -20   -18    -16    -14    -12    -10    -8     -6     -4     -2   \\\n",
              "accuracy  10.85  10.7  11.41  13.79  17.34  23.75  31.16  38.81  48.29  56.21   \n",
              "\n",
              "             0      2      4      6      8      10     12     14     16     18  \n",
              "accuracy  62.31  68.04  69.79  70.51  71.06  71.15  71.44  70.98  70.56  71.11  "
            ]
          },
          "metadata": {
            "tags": []
          },
          "execution_count": 122
        }
      ]
    },
    {
      "cell_type": "code",
      "metadata": {
        "id": "xycfVkhXZBsu",
        "colab_type": "code",
        "outputId": "d0b848ec-feca-4b87-b9c4-608601334bdb",
        "colab": {
          "base_uri": "https://localhost:8080/",
          "height": 329
        }
      },
      "source": [
        "plot_confusion_matrix(y_test, y_pred_ann, mods)"
      ],
      "execution_count": 0,
      "outputs": [
        {
          "output_type": "display_data",
          "data": {
            "image/png": "[encoded data removed]",
            "text/plain": [
              "<Figure size 432x288 with 2 Axes>"
            ]
          },
          "metadata": {
            "tags": []
          }
        }
      ]
    },
    {
      "cell_type": "markdown",
      "metadata": {
        "id": "eW1I3_la8vo9",
        "colab_type": "text"
      },
      "source": [
        "** Convolutional Neural Network Evaluation **"
      ]
    },
    {
      "cell_type": "code",
      "metadata": {
        "id": "Lkyka1zZ8Wct",
        "colab_type": "code",
        "colab": {}
      },
      "source": [
        "cnn_model = keras.models.load_model('cnn.h5')"
      ],
      "execution_count": 0,
      "outputs": []
    },
    {
      "cell_type": "code",
      "metadata": {
        "id": "GVeWbsoh8d8T",
        "colab_type": "code",
        "colab": {}
      },
      "source": [
        "y_pred_cnn = model.predict(X_test)"
      ],
      "execution_count": 0,
      "outputs": []
    },
    {
      "cell_type": "code",
      "metadata": {
        "id": "xUa7Ua8HXBxk",
        "colab_type": "code",
        "outputId": "40e5e13f-a75c-4662-d6fd-95e8718d740d",
        "colab": {
          "base_uri": "https://localhost:8080/",
          "height": 295
        }
      },
      "source": [
        "plot_results(y_pred_cnn, y_test, snr_test)"
      ],
      "execution_count": 0,
      "outputs": [
        {
          "output_type": "display_data",
          "data": {
            "image/png": "[encoded data removed]",
            "text/plain": [
              "<Figure size 432x288 with 1 Axes>"
            ]
          },
          "metadata": {
            "tags": []
          }
        }
      ]
    },
    {
      "cell_type": "code",
      "metadata": {
        "id": "-zxS5Svc12Q-",
        "colab_type": "code",
        "outputId": "eeaa0d71-d7f6-4e3c-8d7d-93b16f3641a9",
        "colab": {
          "base_uri": "https://localhost:8080/",
          "height": 77
        }
      },
      "source": [
        "print_results(y_pred_cnn, y_test, snr_test)"
      ],
      "execution_count": 0,
      "outputs": [
        {
          "output_type": "execute_result",
          "data": {
            "text/html": [
              "<div>\n",
              "<style scoped>\n",
              "    .dataframe tbody tr th:only-of-type {\n",
              "        vertical-align: middle;\n",
              "    }\n",
              "\n",
              "    .dataframe tbody tr th {\n",
              "        vertical-align: top;\n",
              "    }\n",
              "\n",
              "    .dataframe thead th {\n",
              "        text-align: right;\n",
              "    }\n",
              "</style>\n",
              "<table border=\"1\" class=\"dataframe\">\n",
              "  <thead>\n",
              "    <tr style=\"text-align: right;\">\n",
              "      <th></th>\n",
              "      <th>-20</th>\n",
              "      <th>-18</th>\n",
              "      <th>-16</th>\n",
              "      <th>-14</th>\n",
              "      <th>-12</th>\n",
              "      <th>-10</th>\n",
              "      <th>-8</th>\n",
              "      <th>-6</th>\n",
              "      <th>-4</th>\n",
              "      <th>-2</th>\n",
              "      <th>0</th>\n",
              "      <th>2</th>\n",
              "      <th>4</th>\n",
              "      <th>6</th>\n",
              "      <th>8</th>\n",
              "      <th>10</th>\n",
              "      <th>12</th>\n",
              "      <th>14</th>\n",
              "      <th>16</th>\n",
              "      <th>18</th>\n",
              "    </tr>\n",
              "  </thead>\n",
              "  <tbody>\n",
              "    <tr>\n",
              "      <th>accuracy</th>\n",
              "      <td>10.5</td>\n",
              "      <td>10.79</td>\n",
              "      <td>11.44</td>\n",
              "      <td>12.94</td>\n",
              "      <td>15.26</td>\n",
              "      <td>22.64</td>\n",
              "      <td>37.67</td>\n",
              "      <td>52.41</td>\n",
              "      <td>62.0</td>\n",
              "      <td>67.83</td>\n",
              "      <td>72.94</td>\n",
              "      <td>75.21</td>\n",
              "      <td>74.71</td>\n",
              "      <td>75.53</td>\n",
              "      <td>75.53</td>\n",
              "      <td>75.95</td>\n",
              "      <td>75.04</td>\n",
              "      <td>76.01</td>\n",
              "      <td>74.99</td>\n",
              "      <td>76.1</td>\n",
              "    </tr>\n",
              "  </tbody>\n",
              "</table>\n",
              "</div>"
            ],
            "text/plain": [
              "           -20    -18    -16    -14    -12    -10    -8     -6    -4     -2   \\\n",
              "accuracy  10.5  10.79  11.44  12.94  15.26  22.64  37.67  52.41  62.0  67.83   \n",
              "\n",
              "             0      2      4      6      8      10     12     14     16    18  \n",
              "accuracy  72.94  75.21  74.71  75.53  75.53  75.95  75.04  76.01  74.99  76.1  "
            ]
          },
          "metadata": {
            "tags": []
          },
          "execution_count": 239
        }
      ]
    },
    {
      "cell_type": "code",
      "metadata": {
        "id": "eZgRHj2q14E6",
        "colab_type": "code",
        "outputId": "f2bf63f9-8dc5-4cda-c536-297b6dc4d6b9",
        "colab": {
          "base_uri": "https://localhost:8080/",
          "height": 329
        }
      },
      "source": [
        "plot_confusion_matrix(y_test, y_pred_cnn, mods)"
      ],
      "execution_count": 0,
      "outputs": [
        {
          "output_type": "display_data",
          "data": {
            "image/png": "[encoded data removed]",
            "text/plain": [
              "<Figure size 432x288 with 2 Axes>"
            ]
          },
          "metadata": {
            "tags": []
          }
        }
      ]
    },
    {
      "cell_type": "code",
      "metadata": {
        "id": "EvjIRzOx7CIA",
        "colab_type": "code",
        "colab": {}
      },
      "source": [
        "def train_once(size = 5000):\n",
        "  dr = 0.5\n",
        "  model = Sequential()\n",
        "  model.add(Reshape(out_shape, input_shape = in_shape))\n",
        "  model.add(ZeroPadding2D((0, 2), data_format = 'channels_first'))\n",
        "  model.add(Conv2D(256, (1, 3), padding = 'valid', activation = \"relu\", name=\"conv1\", kernel_initializer='glorot_uniform', data_format=\"channels_first\"))\n",
        "  model.add(Dropout(dr))\n",
        "  model.add(ZeroPadding2D((0,2), data_format = 'channels_first'))\n",
        "  model.add(Conv2D(80, (2, 3), activation=\"relu\", name=\"conv3\", padding=\"valid\", kernel_initializer=\"glorot_uniform\", data_format=\"channels_first\"))\n",
        "  model.add(Dropout(dr))\n",
        "  model.add(Flatten())   \n",
        "  model.add(Dense(256, activation=\"relu\", name=\"dense1\", kernel_initializer=\"he_normal\"))\n",
        "  model.add(Dropout(dr))\n",
        "  model.add(Dense(10, name=\"dense3\", kernel_initializer=\"he_normal\", activation = 'softmax'))\n",
        "  model.add(Reshape([len(mods)]))\n",
        "  model.compile(loss='categorical_crossentropy', optimizer='adam', metrics = ['accuracy'])\n",
        "  #model.summary()\n",
        "  model.fit(X_train[:size], y_train[:size], epochs = 100, batch_size = 1024, callbacks=[EarlyStopping(patience = 15, restore_best_weights = True)])\n",
        "  train_pred = model.evaluate(X_train[:size], y_train[:size])\n",
        "  test_pred = model.evaluate(X_test, y_test)\n",
        "  return traind_pred, test_pred\n",
        "  "
      ],
      "execution_count": 0,
      "outputs": []
    },
    {
      "cell_type": "code",
      "metadata": {
        "id": "6aPXcW1X7C6R",
        "colab_type": "code",
        "outputId": "0c299c00-4620-4def-babb-a5584647140c",
        "colab": {
          "base_uri": "https://localhost:8080/",
          "height": 336
        }
      },
      "source": [
        "list(range(5000, 100000, 5000))"
      ],
      "execution_count": 0,
      "outputs": [
        {
          "output_type": "execute_result",
          "data": {
            "text/plain": [
              "[5000,\n",
              " 10000,\n",
              " 15000,\n",
              " 20000,\n",
              " 25000,\n",
              " 30000,\n",
              " 35000,\n",
              " 40000,\n",
              " 45000,\n",
              " 50000,\n",
              " 55000,\n",
              " 60000,\n",
              " 65000,\n",
              " 70000,\n",
              " 75000,\n",
              " 80000,\n",
              " 85000,\n",
              " 90000,\n",
              " 95000]"
            ]
          },
          "metadata": {
            "tags": []
          },
          "execution_count": 14
        }
      ]
    },
    {
      "cell_type": "code",
      "metadata": {
        "id": "TkfHNP91-35G",
        "colab_type": "code",
        "colab": {}
      },
      "source": [
        "train_scores, test_scores = [], []\n",
        "rang = range(5000, 100000, 5000)\n",
        "for i in rang:\n",
        "  trn, tst = train_once(i)\n",
        "  train_scores.append(trn)\n",
        "  test_scores.append(tst)\n",
        "\n",
        "plt.imshow(rang, train_scores, 'ro--', rang, test_scores, 'bo--')"
      ],
      "execution_count": 0,
      "outputs": []
    }
  ]
}